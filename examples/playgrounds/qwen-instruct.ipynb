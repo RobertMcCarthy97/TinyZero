{
 "cells": [
  {
   "cell_type": "code",
   "execution_count": null,
   "metadata": {},
   "outputs": [],
   "source": [
    "# Default countdown instruct prompt\n",
    "f\"\"\"<|im_start|>system\\nYou are a helpful assistant. You first thinks about the reasoning process in the mind and then provides the user with the answer.<|im_end|>\\n<|im_start|>user\\n Using the numbers {numbers}, create an equation that equals {target}. You can use basic arithmetic operations (+, -, *, /) and each number can only be used once. Show your work in <think> </think> tags. And return the final answer in <answer> </answer> tags, for example <answer> (1 + 2) / 3 </answer>.<|im_end|>\\n<|im_start|>assistant\\nLet me solve this step by step.\\n<think>\"\"\""
   ]
  },
  {
   "cell_type": "code",
   "execution_count": null,
   "metadata": {},
   "outputs": [],
   "source": [
    "# Default arithmetic prompt\n",
    "f\"\"\"A conversation between User and Assistant. The user asks a question, and the Assistant solves it. The assistant first thinks about the reasoning process in the mind and then provides the user with the answer. The reasoning process and answer are enclosed within <think> </think> and <answer> </answer> tags, respectively, i.e., <think> reasoning process here </think> <answer> RESULT_NUMBER </answer>. \\nUser: Give me the answer of the following equation: {num1} {op} {num2}.\\nAssistant: Let me solve this step by step.\\n<think>\"\"\""
   ]
  },
  {
   "cell_type": "code",
   "execution_count": null,
   "metadata": {},
   "outputs": [],
   "source": [
    "### Tell to decompose\n",
    "\n",
    "# Base version\n",
    "f\"\"\"A conversation between User and Assistant. The user asks a multiplication question, and the Assistant solves it. The assistant first solves the problem step-by-step by breaking down the multiplication using the distributive property: Separating larger numbers into more manageable parts, computing the partial products separately, then adding the partial products to obtain the final result. The step-by-step multiplication process and answer are enclosed within <think> </think> and <answer> </answer> tags, respectively, i.e., <think> step-by-step multiplication process here </think> <answer> RESULT_NUMBER </answer>. \\nUser: Give me the answer of the following equation: {num1} {op} {num2}.\\nAssistant: Let me solve this step by step.\\n<think>\"\"\""
   ]
  },
  {
   "cell_type": "code",
   "execution_count": null,
   "metadata": {},
   "outputs": [],
   "source": [
    "# Tell to decompose, with example\n",
    "f\"\"\"A conversation between User and Assistant. The user asks a multiplication question, and the Assistant solves it. The assistant first solves the problem step-by-step by breaking down the multiplication using the distributive property: Separating larger numbers into more manageable parts, computing the partial products separately, then adding the partial products to obtain the final result. The step-by-step multiplication process and answer are enclosed within <think> </think> and <answer> </answer> tags, respectively. E.g., <think> To find the product of 965 and 317, we can use the distributive property: 965 * 317 = 965 * (300 + 17) = (965 * 300) + (965 * 17). Now, calculate each part: 965 * 300 = 289500 and 965 * 17 = 16405. Add these together: 289500 + 16405 = 305905. </think>\n",
    "<answer> 305905 </answer>. \\nUser: Give me the answer of the following equation: {num1} {op} {num2}.\\nAssistant: Let me solve this step by step.\\n<think>\"\"\""
   ]
  },
  {
   "cell_type": "code",
   "execution_count": null,
   "metadata": {},
   "outputs": [],
   "source": [
    "# Tell to replace symbols (lvl1)\n",
    "f\"\"\"A conversation between User and Assistant. The user asks a question, and the Assistant solves it. The assistant first thinks about the reasoning process in the mind and then provides the user with the answer. When performing calculations, the assistant replaces mathematical symbols with words: '*' -> 'by', '-' -> 'minus', '+' -> 'plus', and '=' -> 'equals'. The reasoning process and answer are enclosed within <think> </think> and <answer> </answer> tags, respectively, i.e., <think> reasoning process here </think> <answer> RESULT_NUMBER </answer>. \\nUser: Give me the answer of the following equation: {num1} {op} {num2}.\\nAssistant: Let me solve this step by step.\\n<think>\"\"\""
   ]
  },
  {
   "cell_type": "code",
   "execution_count": null,
   "metadata": {},
   "outputs": [],
   "source": [
    "# Tell to decompose and replace symbols (lvl1)\n",
    "f\"\"\"A conversation between User and Assistant. The user asks a multiplication question, and the Assistant solves it. The assistant first solves the problem step-by-step by breaking down the multiplication using the distributive property: Separating larger numbers into more manageable parts, computing the partial products separately, then adding the partial products to obtain the final result. When performing calculations, the assistant replaces mathematical symbols with words: '*' -> 'by', '-' -> 'minus', '+' -> 'plus', and '=' -> 'equals'. The step-by-step multiplication process and answer are enclosed within <think> </think> and <answer> </answer> tags, respectively, i.e., <think> step-by-step multiplication process here </think> <answer> RESULT_NUMBER </answer>. \\nUser: Give me the answer of the following equation: {num1} {op} {num2}.\\nAssistant: Let me solve this step by step.\\n<think>\"\"\""
   ]
  },
  {
   "cell_type": "code",
   "execution_count": null,
   "metadata": {},
   "outputs": [],
   "source": [
    "# Tell to decompose and replace symbols (lvl1), with example\n",
    "f\"\"\"A conversation between User and Assistant. The user asks a multiplication question, and the Assistant solves it. The assistant first solves the problem step-by-step by breaking down the multiplication using the distributive property: Separating larger numbers into more manageable parts, computing the partial products separately, then adding the partial products to obtain the final result. When performing calculations, the assistant replaces mathematical symbols with words: '*' -> 'by', '-' -> 'minus', '+' -> 'plus', and '=' -> 'equals'. The step-by-step multiplication process and answer are enclosed within <think> </think> and <answer> </answer> tags, respectively. E.g., <think> To find the product of 965 and 317, we can use the distributive property: 965 by 317 equals 965 by (300 plus 17) equals (965 by 300) plus (965 by 17). Now, calculate each part: 965 by 300 equals 289500 and 965 by 17 equals 16405. Add these together: 289500 plus 16405 equals 305905. </think> <answer> 305905 </answer>. \\nUser: Give me the answer of the following equation: {num1} {op} {num2}.\\nAssistant: Let me solve this step by step.\\n<think>\"\"\""
   ]
  },
  {
   "cell_type": "code",
   "execution_count": null,
   "metadata": {},
   "outputs": [],
   "source": [
    "# Tell to decompose and replace symbols (lvl2), with example\n",
    "f\"\"\"A conversation between User and Assistant. The user asks a multiplication question, and the Assistant solves it. The assistant first solves the problem step-by-step by breaking down the multiplication using the distributive property: Separating larger numbers into more manageable parts, computing the partial products separately, then adding the partial products to obtain the final result. When performing calculations, the assistant replaces mathematical symbols and numbers with words (e.g., '*' -> 'by', '=' -> 'equals', '1' -> 'one', '21' -> 'two_one'). The step-by-step multiplication process and answer are enclosed within <think> </think> and <answer> </answer> tags, respectively. E.g., <think> To find the product of nine_six_five and three_one_seven, we can use the distributive property: nine_six_five by three_one_seven equals nine_six_five by (three_zero_zero plus one_seven) equals (nine_six_five by three_zero_zero) plus (nine_six_five by one_seven). Now, calculate each part: nine_six_five by three_zero_zero equals two_eight_nine_five_zero_zero and nine_six_five by one_seven equals one_six_four_zero_five. Add these together: two_eight_nine_five_zero_zero plus one_six_four_zero_five equals three_zero_five_nine_zero_five. </think> <answer> 305905 </answer>. \\nUser: Give me the answer of the following equation: {num1} {op} {num2}.\\nAssistant: Let me solve this step by step.\\n<think>\"\"\""
   ]
  },
  {
   "cell_type": "code",
   "execution_count": null,
   "metadata": {},
   "outputs": [],
   "source": [
    "from transformers import AutoModelForCausalLM, AutoTokenizer\n",
    "device = \"cuda\" # the device to load the model onto\n",
    "\n",
    "model = AutoModelForCausalLM.from_pretrained(\n",
    "    \"Qwen/Qwen2-0.5B-Instruct\",\n",
    "    torch_dtype=\"auto\",\n",
    "    device_map=\"auto\"\n",
    ")\n",
    "tokenizer = AutoTokenizer.from_pretrained(\"Qwen/Qwen2-0.5B-Instruct\")\n",
    "\n",
    "# prompt = \"Give me a short introduction to large language model.\"\n",
    "messages = [\n",
    "    {\"role\": \"system\", \"content\": \"You are a helpful assistant.\"},\n",
    "    {\"role\": \"user\", \"content\": prompt}\n",
    "]\n",
    "text = tokenizer.apply_chat_template(\n",
    "    messages,\n",
    "    tokenize=False,\n",
    "    add_generation_prompt=True\n",
    ")\n",
    "model_inputs = tokenizer([text], return_tensors=\"pt\").to(device)\n",
    "\n",
    "generated_ids = model.generate(\n",
    "    model_inputs.input_ids,\n",
    "    max_new_tokens=512\n",
    ")\n",
    "generated_ids = [\n",
    "    output_ids[len(input_ids):] for input_ids, output_ids in zip(model_inputs.input_ids, generated_ids)\n",
    "]\n",
    "\n",
    "response = tokenizer.batch_decode(generated_ids, skip_special_tokens=True)[0]\n"
   ]
  }
 ],
 "metadata": {
  "kernelspec": {
   "display_name": ".tiny_zero",
   "language": "python",
   "name": "python3"
  },
  "language_info": {
   "name": "python",
   "version": "3.10.12"
  }
 },
 "nbformat": 4,
 "nbformat_minor": 2
}
